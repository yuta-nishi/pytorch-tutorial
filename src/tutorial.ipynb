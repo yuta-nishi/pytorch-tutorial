{
 "cells": [
  {
   "cell_type": "markdown",
   "metadata": {},
   "source": [
    "## Pytorch のクイックスタート\n",
    "\n",
    "各 API に関しては公式ドキュメントを参照することを推奨。\n"
   ]
  },
  {
   "cell_type": "markdown",
   "metadata": {},
   "source": [
    "### ライブラリの import\n",
    "\n",
    "使うやつ import するだけ。\n",
    "isort などを用いて、見やすいように import する。\n"
   ]
  },
  {
   "cell_type": "code",
   "execution_count": 1,
   "metadata": {},
   "outputs": [],
   "source": [
    "import torch\n",
    "from torch import nn\n",
    "from torch.utils.data import DataLoader\n",
    "from torchvision import datasets\n",
    "from torchvision.transforms import ToTensor\n"
   ]
  },
  {
   "cell_type": "code",
   "execution_count": 2,
   "metadata": {},
   "outputs": [
    {
     "data": {
      "text/plain": [
       "True"
      ]
     },
     "execution_count": 2,
     "metadata": {},
     "output_type": "execute_result"
    }
   ],
   "source": [
    "torch.cuda.is_available()\n"
   ]
  },
  {
   "cell_type": "markdown",
   "metadata": {},
   "source": [
    "### データセットの作成\n",
    "\n",
    "自分が解きたい課題がある場合(応用)はカスタムのデータセットを用意する。\n",
    "提案手法を確かめたり、簡単なデータを使ったりする場合は PyTorch が提供するデータセットなどを利用する。\n"
   ]
  },
  {
   "cell_type": "code",
   "execution_count": 3,
   "metadata": {},
   "outputs": [],
   "source": [
    "training_data = datasets.FashionMNIST(\n",
    "    root=\"/data\", train=True, download=True, transform=ToTensor()\n",
    ")\n",
    "\n",
    "test_data = datasets.FashionMNIST(\n",
    "    root=\"/data\", train=False, download=True, transform=ToTensor()\n",
    ")\n"
   ]
  },
  {
   "cell_type": "markdown",
   "metadata": {},
   "source": [
    "### データローダーの作成\n",
    "\n",
    "基本的にデータセットをバッチに分けて DataLoader というものを作成する。学習時に使用する。\n"
   ]
  },
  {
   "cell_type": "code",
   "execution_count": 4,
   "metadata": {},
   "outputs": [
    {
     "name": "stdout",
     "output_type": "stream",
     "text": [
      "Shape of X [N, C, H, W]:  torch.Size([64, 1, 28, 28])\n",
      "Shape of y:  torch.Size([64]) torch.int64\n"
     ]
    }
   ],
   "source": [
    "batch_size = 64\n",
    "\n",
    "train_dataloader = DataLoader(training_data, batch_size=batch_size)\n",
    "test_dataloader = DataLoader(test_data, batch_size=batch_size)\n",
    "\n",
    "for X, y in test_dataloader:\n",
    "    print(\"Shape of X [N, C, H, W]: \", X.shape)\n",
    "    print(\"Shape of y: \", y.shape, y.dtype)\n",
    "    break\n"
   ]
  },
  {
   "cell_type": "markdown",
   "metadata": {},
   "source": [
    "### モデルの作成\n",
    "\n",
    "モデルは nn.Module を継承して作成する。構造と伝播方式を決める。\n"
   ]
  },
  {
   "cell_type": "code",
   "execution_count": 5,
   "metadata": {},
   "outputs": [
    {
     "name": "stdout",
     "output_type": "stream",
     "text": [
      "Using cuda device\n",
      "NeuralNetwork(\n",
      "  (flatten): Flatten(start_dim=1, end_dim=-1)\n",
      "  (linear_relu_stack): Sequential(\n",
      "    (0): Linear(in_features=784, out_features=512, bias=True)\n",
      "    (1): ReLU()\n",
      "    (2): Linear(in_features=512, out_features=512, bias=True)\n",
      "    (3): ReLU()\n",
      "    (4): Linear(in_features=512, out_features=10, bias=True)\n",
      "  )\n",
      ")\n"
     ]
    }
   ],
   "source": [
    "device = \"cuda\" if torch.cuda.is_available() else \"cpu\"\n",
    "print(f\"Using {device} device\")\n",
    "\n",
    "\n",
    "class NeuralNetwork(nn.Module):\n",
    "    def __init__(self) -> None:\n",
    "        super().__init__()\n",
    "        self.flatten = nn.Flatten()\n",
    "        self.linear_relu_stack = nn.Sequential(\n",
    "            nn.Linear(28 * 28, 512),\n",
    "            nn.ReLU(),\n",
    "            nn.Linear(512, 512),\n",
    "            nn.ReLU(),\n",
    "            nn.Linear(512, 10),\n",
    "        )\n",
    "\n",
    "    def forward(self, x: torch.Tensor) -> torch.Tensor:\n",
    "        x = self.flatten(x)\n",
    "        logits = self.linear_relu_stack(x)\n",
    "        return logits\n",
    "\n",
    "\n",
    "model = NeuralNetwork().to(device)\n",
    "print(model)\n"
   ]
  },
  {
   "cell_type": "markdown",
   "metadata": {},
   "source": [
    "### 損失関数と最適化手法の作成\n",
    "\n",
    "損失関数は基本的に nn.~Loss を組み合わせて作成。カスタムの損失関数を設計している人もいる。\n",
    "\n",
    "最適化手法に関しては Adam を使いがち、スケジューリングなどもする。\n"
   ]
  },
  {
   "cell_type": "code",
   "execution_count": 6,
   "metadata": {},
   "outputs": [],
   "source": [
    "loss_fn = nn.CrossEntropyLoss()\n",
    "optimizer = torch.optim.SGD(model.parameters(), lr=1e-3)\n"
   ]
  },
  {
   "cell_type": "markdown",
   "metadata": {},
   "source": [
    "### 学習時の関数を作成\n",
    "\n",
    "関数化することを推奨。dataloader、model、loss function、optimizer を使用。\n",
    "\n",
    "（型をつけても**call**()の引数と戻り値は補完されないっぽい？）\n"
   ]
  },
  {
   "cell_type": "code",
   "execution_count": 7,
   "metadata": {},
   "outputs": [],
   "source": [
    "def train(\n",
    "    dataloader: DataLoader,\n",
    "    model: NeuralNetwork,\n",
    "    loss_fn: nn.CrossEntropyLoss,\n",
    "    optimizer: torch.optim.SGD,\n",
    ") -> None:\n",
    "    size = len(dataloader.dataset)\n",
    "    model.train()\n",
    "    for batch, (X, y) in enumerate(dataloader):\n",
    "        X, y = X.to(device), y.to(device)\n",
    "\n",
    "        pred: torch.Tensor = model(X)\n",
    "        loss = loss_fn(pred, y)\n",
    "\n",
    "        loss.backward()\n",
    "        optimizer.step()\n",
    "        optimizer.zero_grad()\n",
    "\n",
    "        if batch % 100 == 0:\n",
    "            loss, cur = loss.item(), (batch + 1) * len(X)\n",
    "            print(f\"loss: {loss:>7f} [{cur:>5d} / {size:>5d}]\")\n"
   ]
  },
  {
   "cell_type": "markdown",
   "metadata": {},
   "source": [
    "### 推論時の関数を作成\n",
    "\n",
    "関数化することを推奨。dataloader、model、loss function を使用。\n"
   ]
  },
  {
   "cell_type": "code",
   "execution_count": 8,
   "metadata": {},
   "outputs": [],
   "source": [
    "def test(\n",
    "    dataloader: DataLoader, model: NeuralNetwork, loss_fn: nn.CrossEntropyLoss\n",
    ") -> None:\n",
    "    size = len(dataloader.dataset)\n",
    "    num_batches = len(dataloader)\n",
    "    model.eval()\n",
    "    test_loss, correct = 0, 0\n",
    "    with torch.no_grad():\n",
    "        for X, y in dataloader:\n",
    "            X, y = X.to(device), y.to(device)\n",
    "            pred: torch.Tensor = model(X)\n",
    "            test_loss += loss_fn(pred, y).item()\n",
    "            correct += (pred.argmax(1) == y).type(torch.float).sum().item()\n",
    "\n",
    "    test_loss /= num_batches\n",
    "    correct /= size\n",
    "    print(\n",
    "        f\"Test Error: \\n Accuracy: {(100 * correct):>0.1f}%, Avg loss: {test_loss:>8f} \\n\"\n",
    "    )\n"
   ]
  },
  {
   "cell_type": "markdown",
   "metadata": {},
   "source": [
    "### 学習と推論\n"
   ]
  },
  {
   "cell_type": "code",
   "execution_count": 9,
   "metadata": {},
   "outputs": [
    {
     "name": "stdout",
     "output_type": "stream",
     "text": [
      "Epoch 1\n",
      "-------------------------------\n",
      "loss: 2.293121 [   64 / 60000]\n",
      "loss: 2.281806 [ 6464 / 60000]\n",
      "loss: 2.258869 [12864 / 60000]\n",
      "loss: 2.262832 [19264 / 60000]\n",
      "loss: 2.257825 [25664 / 60000]\n",
      "loss: 2.226212 [32064 / 60000]\n",
      "loss: 2.235760 [38464 / 60000]\n",
      "loss: 2.212218 [44864 / 60000]\n",
      "loss: 2.203293 [51264 / 60000]\n",
      "loss: 2.166321 [57664 / 60000]\n",
      "Test Error: \n",
      " Accuracy: 34.9%, Avg loss: 2.166673 \n",
      "\n",
      "Epoch 2\n",
      "-------------------------------\n",
      "loss: 2.174085 [   64 / 60000]\n",
      "loss: 2.163100 [ 6464 / 60000]\n",
      "loss: 2.104940 [12864 / 60000]\n",
      "loss: 2.131493 [19264 / 60000]\n",
      "loss: 2.084498 [25664 / 60000]\n",
      "loss: 2.028997 [32064 / 60000]\n",
      "loss: 2.056357 [38464 / 60000]\n",
      "loss: 1.989269 [44864 / 60000]\n",
      "loss: 1.991259 [51264 / 60000]\n",
      "loss: 1.917779 [57664 / 60000]\n",
      "Test Error: \n",
      " Accuracy: 58.2%, Avg loss: 1.918446 \n",
      "\n",
      "Epoch 3\n",
      "-------------------------------\n",
      "loss: 1.945097 [   64 / 60000]\n",
      "loss: 1.912480 [ 6464 / 60000]\n",
      "loss: 1.804423 [12864 / 60000]\n",
      "loss: 1.856594 [19264 / 60000]\n",
      "loss: 1.733661 [25664 / 60000]\n",
      "loss: 1.693148 [32064 / 60000]\n",
      "loss: 1.713563 [38464 / 60000]\n",
      "loss: 1.624044 [44864 / 60000]\n",
      "loss: 1.641314 [51264 / 60000]\n",
      "loss: 1.533516 [57664 / 60000]\n",
      "Test Error: \n",
      " Accuracy: 62.8%, Avg loss: 1.554284 \n",
      "\n",
      "Epoch 4\n",
      "-------------------------------\n",
      "loss: 1.616941 [   64 / 60000]\n",
      "loss: 1.576550 [ 6464 / 60000]\n",
      "loss: 1.436155 [12864 / 60000]\n",
      "loss: 1.510257 [19264 / 60000]\n",
      "loss: 1.376147 [25664 / 60000]\n",
      "loss: 1.382562 [32064 / 60000]\n",
      "loss: 1.387664 [38464 / 60000]\n",
      "loss: 1.323353 [44864 / 60000]\n",
      "loss: 1.346638 [51264 / 60000]\n",
      "loss: 1.243133 [57664 / 60000]\n",
      "Test Error: \n",
      " Accuracy: 64.3%, Avg loss: 1.272980 \n",
      "\n",
      "Epoch 5\n",
      "-------------------------------\n",
      "loss: 1.352284 [   64 / 60000]\n",
      "loss: 1.328095 [ 6464 / 60000]\n",
      "loss: 1.166581 [12864 / 60000]\n",
      "loss: 1.270271 [19264 / 60000]\n",
      "loss: 1.136367 [25664 / 60000]\n",
      "loss: 1.172765 [32064 / 60000]\n",
      "loss: 1.181450 [38464 / 60000]\n",
      "loss: 1.130260 [44864 / 60000]\n",
      "loss: 1.158227 [51264 / 60000]\n",
      "loss: 1.073061 [57664 / 60000]\n",
      "Test Error: \n",
      " Accuracy: 65.4%, Avg loss: 1.096739 \n",
      "\n",
      "Done!\n"
     ]
    }
   ],
   "source": [
    "epochs = 5\n",
    "for epoch in range(epochs):\n",
    "    print(f\"Epoch {epoch + 1}\\n-------------------------------\")\n",
    "    train(train_dataloader, model, loss_fn, optimizer)\n",
    "    test(test_dataloader, model, loss_fn)\n",
    "\n",
    "print(\"Done!\")\n"
   ]
  },
  {
   "cell_type": "markdown",
   "metadata": {},
   "source": [
    "### 学習結果の保存\n",
    "\n",
    "保存し忘れたり、上書きしたりすると実験がパーになるので忘れずに。\n"
   ]
  },
  {
   "cell_type": "code",
   "execution_count": 10,
   "metadata": {},
   "outputs": [
    {
     "name": "stdout",
     "output_type": "stream",
     "text": [
      "Saved PyTorch Model State to model.pth\n"
     ]
    }
   ],
   "source": [
    "torch.save(model.state_dict(), \"/data/FashionMNIST/model.pth\")\n",
    "print(\"Saved PyTorch Model State to model.pth\")\n"
   ]
  },
  {
   "cell_type": "markdown",
   "metadata": {},
   "source": [
    "### 保存した重みの読み込み\n"
   ]
  },
  {
   "cell_type": "code",
   "execution_count": 11,
   "metadata": {},
   "outputs": [
    {
     "data": {
      "text/plain": [
       "<All keys matched successfully>"
      ]
     },
     "execution_count": 11,
     "metadata": {},
     "output_type": "execute_result"
    }
   ],
   "source": [
    "model = NeuralNetwork().to(device)\n",
    "model.load_state_dict(torch.load(\"/data/FashionMNIST/model.pth\"))\n"
   ]
  },
  {
   "cell_type": "markdown",
   "metadata": {},
   "source": [
    "### 結果の詳細を確認\n",
    "\n",
    "実際の正答を確認し、可視化などをする。\n"
   ]
  },
  {
   "cell_type": "code",
   "execution_count": 12,
   "metadata": {},
   "outputs": [
    {
     "name": "stdout",
     "output_type": "stream",
     "text": [
      "Predicted: \"Ankle boot\", Actual: \"Ankle boot\"\n"
     ]
    }
   ],
   "source": [
    "classes = [\n",
    "    \"T-shirt/top\",\n",
    "    \"Trouser\",\n",
    "    \"Pullover\",\n",
    "    \"Dress\",\n",
    "    \"Coat\",\n",
    "    \"Sandal\",\n",
    "    \"Shirt\",\n",
    "    \"Sneaker\",\n",
    "    \"Bag\",\n",
    "    \"Ankle boot\",\n",
    "]\n",
    "\n",
    "model.eval()\n",
    "x, y = test_data[0][0], test_data[0][1]\n",
    "with torch.no_grad():\n",
    "    x = x.to(device)\n",
    "    pred: torch.Tensor = model(x)\n",
    "    predicted, actual = classes[pred[0].argmax(0)], classes[y]\n",
    "    print(f'Predicted: \"{predicted}\", Actual: \"{actual}\"')\n"
   ]
  },
  {
   "cell_type": "code",
   "execution_count": null,
   "metadata": {},
   "outputs": [],
   "source": []
  }
 ],
 "metadata": {
  "kernelspec": {
   "display_name": "base",
   "language": "python",
   "name": "python3"
  },
  "language_info": {
   "codemirror_mode": {
    "name": "ipython",
    "version": 3
   },
   "file_extension": ".py",
   "mimetype": "text/x-python",
   "name": "python",
   "nbconvert_exporter": "python",
   "pygments_lexer": "ipython3",
   "version": "3.10.13"
  }
 },
 "nbformat": 4,
 "nbformat_minor": 2
}

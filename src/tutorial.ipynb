{
 "cells": [
  {
   "cell_type": "markdown",
   "metadata": {},
   "source": [
    "## Pytorchのクイックスタート\n",
    "\n",
    "各APIに関しては公式ドキュメントを参照することを推奨。"
   ]
  },
  {
   "cell_type": "markdown",
   "metadata": {},
   "source": [
    "### ライブラリのimport\n",
    "\n",
    "使うやつimportするだけ。\n",
    "isortなどを用いて、見やすいようにimportする。"
   ]
  },
  {
   "cell_type": "code",
   "execution_count": 1,
   "metadata": {},
   "outputs": [],
   "source": [
    "import torch\n",
    "from torch import nn\n",
    "from torch.utils.data import DataLoader\n",
    "from torchvision import datasets\n",
    "from torchvision.transforms import ToTensor\n"
   ]
  },
  {
   "cell_type": "markdown",
   "metadata": {},
   "source": [
    "### データセットの作成\n",
    "\n",
    "自分が解きたい課題がある場合(応用)はカスタムのデータセットを用意する。\n",
    "提案手法を確かめたり、簡単なデータを使ったりする場合はPyTorchが提供するデータセットなどを利用する。"
   ]
  },
  {
   "cell_type": "code",
   "execution_count": 2,
   "metadata": {},
   "outputs": [
    {
     "name": "stdout",
     "output_type": "stream",
     "text": [
      "Downloading http://fashion-mnist.s3-website.eu-central-1.amazonaws.com/train-images-idx3-ubyte.gz\n",
      "Downloading http://fashion-mnist.s3-website.eu-central-1.amazonaws.com/train-images-idx3-ubyte.gz to /data/FashionMNIST/raw/train-images-idx3-ubyte.gz\n"
     ]
    },
    {
     "name": "stderr",
     "output_type": "stream",
     "text": [
      "100%|██████████| 26421880/26421880 [00:11<00:00, 2228634.21it/s]\n"
     ]
    },
    {
     "name": "stdout",
     "output_type": "stream",
     "text": [
      "Extracting /data/FashionMNIST/raw/train-images-idx3-ubyte.gz to /data/FashionMNIST/raw\n",
      "\n",
      "Downloading http://fashion-mnist.s3-website.eu-central-1.amazonaws.com/train-labels-idx1-ubyte.gz\n",
      "Downloading http://fashion-mnist.s3-website.eu-central-1.amazonaws.com/train-labels-idx1-ubyte.gz to /data/FashionMNIST/raw/train-labels-idx1-ubyte.gz\n"
     ]
    },
    {
     "name": "stderr",
     "output_type": "stream",
     "text": [
      "100%|██████████| 29515/29515 [00:00<00:00, 105084.04it/s]\n"
     ]
    },
    {
     "name": "stdout",
     "output_type": "stream",
     "text": [
      "Extracting /data/FashionMNIST/raw/train-labels-idx1-ubyte.gz to /data/FashionMNIST/raw\n",
      "\n",
      "Downloading http://fashion-mnist.s3-website.eu-central-1.amazonaws.com/t10k-images-idx3-ubyte.gz\n",
      "Downloading http://fashion-mnist.s3-website.eu-central-1.amazonaws.com/t10k-images-idx3-ubyte.gz to /data/FashionMNIST/raw/t10k-images-idx3-ubyte.gz\n"
     ]
    },
    {
     "name": "stderr",
     "output_type": "stream",
     "text": [
      "100%|██████████| 4422102/4422102 [00:07<00:00, 591187.24it/s]\n"
     ]
    },
    {
     "name": "stdout",
     "output_type": "stream",
     "text": [
      "Extracting /data/FashionMNIST/raw/t10k-images-idx3-ubyte.gz to /data/FashionMNIST/raw\n",
      "\n",
      "Downloading http://fashion-mnist.s3-website.eu-central-1.amazonaws.com/t10k-labels-idx1-ubyte.gz\n",
      "Downloading http://fashion-mnist.s3-website.eu-central-1.amazonaws.com/t10k-labels-idx1-ubyte.gz to /data/FashionMNIST/raw/t10k-labels-idx1-ubyte.gz\n"
     ]
    },
    {
     "name": "stderr",
     "output_type": "stream",
     "text": [
      "100%|██████████| 5148/5148 [00:00<00:00, 12015735.67it/s]"
     ]
    },
    {
     "name": "stdout",
     "output_type": "stream",
     "text": [
      "Extracting /data/FashionMNIST/raw/t10k-labels-idx1-ubyte.gz to /data/FashionMNIST/raw\n",
      "\n"
     ]
    },
    {
     "name": "stderr",
     "output_type": "stream",
     "text": [
      "\n"
     ]
    }
   ],
   "source": [
    "training_data = datasets.FashionMNIST(\n",
    "    root=\"/data\", train=True, download=True, transform=ToTensor()\n",
    ")\n",
    "\n",
    "test_data = datasets.FashionMNIST(\n",
    "    root=\"/data\", train=False, download=True, transform=ToTensor()\n",
    ")\n"
   ]
  },
  {
   "cell_type": "markdown",
   "metadata": {},
   "source": [
    "### データローダーの作成\n",
    "\n",
    "基本的にデータセットをバッチに分けてDataLoaderというものを作成する。学習時に使用する。"
   ]
  },
  {
   "cell_type": "code",
   "execution_count": 4,
   "metadata": {},
   "outputs": [
    {
     "name": "stdout",
     "output_type": "stream",
     "text": [
      "Shape of X [N, C, H, W]:  torch.Size([64, 1, 28, 28])\n",
      "Shape of y:  torch.Size([64]) torch.int64\n"
     ]
    }
   ],
   "source": [
    "batch_size = 64\n",
    "\n",
    "train_dataloader = DataLoader(training_data, batch_size=batch_size)\n",
    "test_dataloader = DataLoader(test_data, batch_size=batch_size)\n",
    "\n",
    "for X, y in test_dataloader:\n",
    "    print(\"Shape of X [N, C, H, W]: \", X.shape)\n",
    "    print(\"Shape of y: \", y.shape, y.dtype)\n",
    "    break\n"
   ]
  },
  {
   "cell_type": "markdown",
   "metadata": {},
   "source": [
    "### モデルの作成\n",
    "\n",
    "モデルはnn.Moduleを継承して作成する。構造と伝播方式を決める。"
   ]
  },
  {
   "cell_type": "code",
   "execution_count": 6,
   "metadata": {},
   "outputs": [
    {
     "name": "stdout",
     "output_type": "stream",
     "text": [
      "Using cuda device\n",
      "NeuralNetwork(\n",
      "  (flatten): Flatten(start_dim=1, end_dim=-1)\n",
      "  (linear_relu_stack): Sequential(\n",
      "    (0): Linear(in_features=784, out_features=512, bias=True)\n",
      "    (1): ReLU()\n",
      "    (2): Linear(in_features=512, out_features=512, bias=True)\n",
      "    (3): ReLU()\n",
      "    (4): Linear(in_features=512, out_features=10, bias=True)\n",
      "  )\n",
      ")\n"
     ]
    }
   ],
   "source": [
    "device = \"cuda\" if torch.cuda.is_available() else \"cpu\"\n",
    "print(f\"Using {device} device\")\n",
    "\n",
    "\n",
    "class NeuralNetwork(nn.Module):\n",
    "    def __init__(self) -> None:\n",
    "        super().__init__()\n",
    "        self.flatten = nn.Flatten()\n",
    "        self.linear_relu_stack = nn.Sequential(\n",
    "            nn.Linear(28 * 28, 512),\n",
    "            nn.ReLU(),\n",
    "            nn.Linear(512, 512),\n",
    "            nn.ReLU(),\n",
    "            nn.Linear(512, 10),\n",
    "        )\n",
    "\n",
    "    def forward(self, x: torch.Tensor) -> torch.Tensor:\n",
    "        x = self.flatten(x)\n",
    "        logits = self.linear_relu_stack(x)\n",
    "        return logits\n",
    "\n",
    "\n",
    "model = NeuralNetwork().to(device)\n",
    "print(model)\n"
   ]
  },
  {
   "cell_type": "markdown",
   "metadata": {},
   "source": [
    "### 損失関数と最適化手法の作成\n",
    "\n",
    "損失関数は基本的にnn.~Lossを組み合わせて作成。カスタムの損失関数を設計している人もいる。\n",
    "\n",
    "最適化手法に関してはAdamを使いがち、スケジューリングなどもする。"
   ]
  },
  {
   "cell_type": "code",
   "execution_count": 7,
   "metadata": {},
   "outputs": [],
   "source": [
    "loss_fn = nn.CrossEntropyLoss()\n",
    "optimizer = torch.optim.SGD(model.parameters(), lr=1e-3)\n"
   ]
  },
  {
   "cell_type": "markdown",
   "metadata": {},
   "source": [
    "### 学習時の関数を作成\n",
    "\n",
    "関数化することを推奨。dataloader、model、loss function、optimizerを使用。\n",
    "\n",
    "（型をつけても__call__()の引数と戻り値は補完されないっぽい？）"
   ]
  },
  {
   "cell_type": "code",
   "execution_count": 8,
   "metadata": {},
   "outputs": [],
   "source": [
    "def train(\n",
    "    dataloader: DataLoader,\n",
    "    model: NeuralNetwork,\n",
    "    loss_fn: nn.CrossEntropyLoss,\n",
    "    optimizer: torch.optim.SGD,\n",
    ") -> None:\n",
    "    size = len(dataloader.dataset)\n",
    "    model.train()\n",
    "    for batch, (X, y) in enumerate(dataloader):\n",
    "        X, y = X.to(device), y.to(device)\n",
    "\n",
    "        pred: torch.Tensor = model(X)\n",
    "        loss = loss_fn(pred, y)\n",
    "\n",
    "        loss.backward()\n",
    "        optimizer.step()\n",
    "        optimizer.zero_grad()\n",
    "\n",
    "        if batch % 100 == 0:\n",
    "            loss, cur = loss.item(), (batch + 1) * len(X)\n",
    "            print(f\"loss: {loss:>7f} [{cur:>5d} / {size:>5d}]\")\n"
   ]
  },
  {
   "cell_type": "markdown",
   "metadata": {},
   "source": [
    "### 推論時の関数を作成\n",
    "\n",
    "関数化することを推奨。dataloader、model、loss functionを使用。"
   ]
  },
  {
   "cell_type": "code",
   "execution_count": 9,
   "metadata": {},
   "outputs": [],
   "source": [
    "def test(\n",
    "    dataloader: DataLoader, model: NeuralNetwork, loss_fn: nn.CrossEntropyLoss\n",
    ") -> None:\n",
    "    size = len(dataloader.dataset)\n",
    "    num_batches = len(dataloader)\n",
    "    model.eval()\n",
    "    test_loss, correct = 0, 0\n",
    "    with torch.no_grad():\n",
    "        for X, y in dataloader:\n",
    "            X, y = X.to(device), y.to(device)\n",
    "            pred: torch.Tensor = model(X)\n",
    "            test_loss += loss_fn(pred, y).item()\n",
    "            correct += (pred.argmax(1) == y).type(torch.float).sum().item()\n",
    "\n",
    "    test_loss /= num_batches\n",
    "    correct /= size\n",
    "    print(\n",
    "        f\"Test Error: \\n Accuracy: {(100 * correct):>0.1f}%, Avg loss: {test_loss:>8f} \\n\"\n",
    "    )\n"
   ]
  },
  {
   "cell_type": "markdown",
   "metadata": {},
   "source": [
    "### 学習と推論"
   ]
  },
  {
   "cell_type": "code",
   "execution_count": 10,
   "metadata": {},
   "outputs": [
    {
     "name": "stdout",
     "output_type": "stream",
     "text": [
      "Epoch 1\n",
      "-------------------------------\n",
      "loss: 2.301820 [   64 / 60000]\n",
      "loss: 2.290018 [ 6464 / 60000]\n",
      "loss: 2.271774 [12864 / 60000]\n",
      "loss: 2.272327 [19264 / 60000]\n",
      "loss: 2.248667 [25664 / 60000]\n",
      "loss: 2.232768 [32064 / 60000]\n",
      "loss: 2.232696 [38464 / 60000]\n",
      "loss: 2.200930 [44864 / 60000]\n",
      "loss: 2.197880 [51264 / 60000]\n",
      "loss: 2.182165 [57664 / 60000]\n",
      "Test Error: \n",
      " Accuracy: 54.5%, Avg loss: 2.165721 \n",
      "\n",
      "Epoch 2\n",
      "-------------------------------\n",
      "loss: 2.170702 [   64 / 60000]\n",
      "loss: 2.157637 [ 6464 / 60000]\n",
      "loss: 2.107023 [12864 / 60000]\n",
      "loss: 2.133658 [19264 / 60000]\n",
      "loss: 2.067456 [25664 / 60000]\n",
      "loss: 2.031221 [32064 / 60000]\n",
      "loss: 2.052110 [38464 / 60000]\n",
      "loss: 1.976033 [44864 / 60000]\n",
      "loss: 1.983536 [51264 / 60000]\n",
      "loss: 1.928017 [57664 / 60000]\n",
      "Test Error: \n",
      " Accuracy: 58.5%, Avg loss: 1.910562 \n",
      "\n",
      "Epoch 3\n",
      "-------------------------------\n",
      "loss: 1.939190 [   64 / 60000]\n",
      "loss: 1.903834 [ 6464 / 60000]\n",
      "loss: 1.794050 [12864 / 60000]\n",
      "loss: 1.845724 [19264 / 60000]\n",
      "loss: 1.716707 [25664 / 60000]\n",
      "loss: 1.686913 [32064 / 60000]\n",
      "loss: 1.705931 [38464 / 60000]\n",
      "loss: 1.600074 [44864 / 60000]\n",
      "loss: 1.626521 [51264 / 60000]\n",
      "loss: 1.535636 [57664 / 60000]\n",
      "Test Error: \n",
      " Accuracy: 62.2%, Avg loss: 1.537813 \n",
      "\n",
      "Epoch 4\n",
      "-------------------------------\n",
      "loss: 1.603618 [   64 / 60000]\n",
      "loss: 1.560989 [ 6464 / 60000]\n",
      "loss: 1.412028 [12864 / 60000]\n",
      "loss: 1.491702 [19264 / 60000]\n",
      "loss: 1.358312 [25664 / 60000]\n",
      "loss: 1.368353 [32064 / 60000]\n",
      "loss: 1.379184 [38464 / 60000]\n",
      "loss: 1.294505 [44864 / 60000]\n",
      "loss: 1.328089 [51264 / 60000]\n",
      "loss: 1.243444 [57664 / 60000]\n",
      "Test Error: \n",
      " Accuracy: 64.1%, Avg loss: 1.259547 \n",
      "\n",
      "Epoch 5\n",
      "-------------------------------\n",
      "loss: 1.338802 [   64 / 60000]\n",
      "loss: 1.312511 [ 6464 / 60000]\n",
      "loss: 1.147168 [12864 / 60000]\n",
      "loss: 1.256478 [19264 / 60000]\n",
      "loss: 1.123052 [25664 / 60000]\n",
      "loss: 1.163290 [32064 / 60000]\n",
      "loss: 1.180202 [38464 / 60000]\n",
      "loss: 1.107865 [44864 / 60000]\n",
      "loss: 1.143597 [51264 / 60000]\n",
      "loss: 1.076921 [57664 / 60000]\n",
      "Test Error: \n",
      " Accuracy: 65.3%, Avg loss: 1.089117 \n",
      "\n",
      "Done!\n"
     ]
    }
   ],
   "source": [
    "epochs = 5\n",
    "for epoch in range(epochs):\n",
    "    print(f\"Epoch {epoch + 1}\\n-------------------------------\")\n",
    "    train(train_dataloader, model, loss_fn, optimizer)\n",
    "    test(test_dataloader, model, loss_fn)\n",
    "\n",
    "print(\"Done!\")\n"
   ]
  },
  {
   "cell_type": "markdown",
   "metadata": {},
   "source": [
    "### 学習結果の保存\n",
    "\n",
    "保存し忘れたり、上書きしたりすると実験がパーになるので忘れずに。"
   ]
  },
  {
   "cell_type": "code",
   "execution_count": 14,
   "metadata": {},
   "outputs": [
    {
     "name": "stdout",
     "output_type": "stream",
     "text": [
      "Saved PyTorch Model State to model.pth\n"
     ]
    }
   ],
   "source": [
    "torch.save(model.state_dict(), \"/data/FashionMNIST/model.pth\")\n",
    "print(\"Saved PyTorch Model State to model.pth\")\n"
   ]
  },
  {
   "cell_type": "markdown",
   "metadata": {},
   "source": [
    "### 保存した重みの読み込み"
   ]
  },
  {
   "cell_type": "code",
   "execution_count": 15,
   "metadata": {},
   "outputs": [
    {
     "name": "stdout",
     "output_type": "stream",
     "text": [
      "NeuralNetwork(\n",
      "  (flatten): Flatten(start_dim=1, end_dim=-1)\n",
      "  (linear_relu_stack): Sequential(\n",
      "    (0): Linear(in_features=784, out_features=512, bias=True)\n",
      "    (1): ReLU()\n",
      "    (2): Linear(in_features=512, out_features=512, bias=True)\n",
      "    (3): ReLU()\n",
      "    (4): Linear(in_features=512, out_features=10, bias=True)\n",
      "  )\n",
      ")\n"
     ]
    }
   ],
   "source": [
    "model = NeuralNetwork().to(device)\n",
    "model.load_state_dict(torch.load(\"/data/FashionMNIST/model.pth\"))\n"
   ]
  },
  {
   "cell_type": "markdown",
   "metadata": {},
   "source": [
    "### 結果の詳細を確認\n",
    "\n",
    "実際の正答を確認し、可視化などをする。"
   ]
  },
  {
   "cell_type": "code",
   "execution_count": 19,
   "metadata": {},
   "outputs": [
    {
     "name": "stdout",
     "output_type": "stream",
     "text": [
      "tensor([-1.9879, -2.6412, -0.8158, -1.4558, -0.6634,  2.4251, -0.9630,  2.6783,\n",
      "         1.8143,  3.0877], device='cuda:0')\n",
      "Predicted: \"Ankle boot\", Actual: \"Ankle boot\"\n"
     ]
    }
   ],
   "source": [
    "classes = [\n",
    "    \"T-shirt/top\",\n",
    "    \"Trouser\",\n",
    "    \"Pullover\",\n",
    "    \"Dress\",\n",
    "    \"Coat\",\n",
    "    \"Sandal\",\n",
    "    \"Shirt\",\n",
    "    \"Sneaker\",\n",
    "    \"Bag\",\n",
    "    \"Ankle boot\",\n",
    "]\n",
    "\n",
    "model.eval()\n",
    "x, y = test_data[0][0], test_data[0][1]\n",
    "with torch.no_grad():\n",
    "    x = x.to(device)\n",
    "    pred: torch.Tensor = model(x)\n",
    "    predicted, actual = classes[pred[0].argmax(0)], classes[y]\n",
    "    print(f'Predicted: \"{predicted}\", Actual: \"{actual}\"')\n"
   ]
  },
  {
   "cell_type": "code",
   "execution_count": null,
   "metadata": {},
   "outputs": [],
   "source": []
  }
 ],
 "metadata": {
  "kernelspec": {
   "display_name": "base",
   "language": "python",
   "name": "python3"
  },
  "language_info": {
   "codemirror_mode": {
    "name": "ipython",
    "version": 3
   },
   "file_extension": ".py",
   "mimetype": "text/x-python",
   "name": "python",
   "nbconvert_exporter": "python",
   "pygments_lexer": "ipython3",
   "version": "3.10.13"
  }
 },
 "nbformat": 4,
 "nbformat_minor": 2
}
